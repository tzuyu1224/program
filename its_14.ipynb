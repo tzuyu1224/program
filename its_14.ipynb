{
  "nbformat": 4,
  "nbformat_minor": 0,
  "metadata": {
    "colab": {
      "provenance": [],
      "authorship_tag": "ABX9TyMtVM2S6uvOEviqGRpazr0b",
      "include_colab_link": true
    },
    "kernelspec": {
      "name": "python3",
      "display_name": "Python 3"
    },
    "language_info": {
      "name": "python"
    }
  },
  "cells": [
    {
      "cell_type": "markdown",
      "metadata": {
        "id": "view-in-github",
        "colab_type": "text"
      },
      "source": [
        "<a href=\"https://colab.research.google.com/github/tzuyu1224/program/blob/main/its_14.ipynb\" target=\"_parent\"><img src=\"https://colab.research.google.com/assets/colab-badge.svg\" alt=\"Open In Colab\"/></a>"
      ]
    },
    {
      "cell_type": "code",
      "source": [
        "grade=80\n",
        "if grade>=90:\n",
        "  print(\"A\")\n",
        "elif grade >=80:\n",
        "  print(\"B\")\n",
        "elif grade >=70:\n",
        "  print(\"C\")\n",
        "else:\n",
        "  print(\"Fail\")"
      ],
      "metadata": {
        "colab": {
          "base_uri": "https://localhost:8080/"
        },
        "id": "x348raJ_BIW-",
        "outputId": "fc1564ff-5afa-4f5c-ba54-1952f7c9b649"
      },
      "execution_count": 5,
      "outputs": [
        {
          "output_type": "stream",
          "name": "stdout",
          "text": [
            "B\n"
          ]
        }
      ]
    },
    {
      "cell_type": "code",
      "source": [
        "from random import randint\n",
        "num = randint(1,100)\n",
        "print(num)\n",
        "if num % 2 ==0:\n",
        "  print(\"偶數\")"
      ],
      "metadata": {
        "colab": {
          "base_uri": "https://localhost:8080/"
        },
        "id": "3CDU3jQVLZvE",
        "outputId": "2e01e975-e712-4310-e986-c0664fdb650f"
      },
      "execution_count": 15,
      "outputs": [
        {
          "output_type": "stream",
          "name": "stdout",
          "text": [
            "90\n",
            "偶數\n"
          ]
        }
      ]
    },
    {
      "cell_type": "code",
      "source": [
        "from random import randint\n",
        "num = randint(1,100)\n",
        "print(num)\n",
        "if num % 2 ==0:\n",
        "  print(\"%d是偶數\"%num)\n",
        "else:\n",
        "  print(\"%d是奇數\"%num)  "
      ],
      "metadata": {
        "colab": {
          "base_uri": "https://localhost:8080/"
        },
        "id": "Ej6uXJyBMyUM",
        "outputId": "2061c473-2e0f-4156-f05b-f34aa6173430"
      },
      "execution_count": 19,
      "outputs": [
        {
          "output_type": "stream",
          "name": "stdout",
          "text": [
            "94\n",
            "94是偶數\n"
          ]
        }
      ]
    }
  ]
}